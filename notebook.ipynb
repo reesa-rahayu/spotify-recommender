{
 "cells": [
  {
   "cell_type": "code",
   "execution_count": 1,
   "id": "fb57ef12",
   "metadata": {},
   "outputs": [],
   "source": [
    "import numpy as np\n",
    "import pandas as pd\n",
    "import matplotlib.pyplot as plt\n",
    "import seaborn as sns\n",
    "from sklearn.preprocessing import MinMaxScaler"
   ]
  },
  {
   "cell_type": "markdown",
   "id": "169b5e89",
   "metadata": {},
   "source": [
    "# Data Understanding"
   ]
  },
  {
   "cell_type": "markdown",
   "id": "5f50805a",
   "metadata": {},
   "source": [
    "- track_id: ID Spotify trek  \n",
    "- artists: Nama artis yang membawakan, dipisahkan ; jika lebih dari satu  \n",
    "- album_name: Nama album  \n",
    "- track_name: Nama trek  \n",
    "- popularity: Popularitas dari 0-100, berdasarkan jumlah putaran dan terbaru  \n",
    "- duration_ms: Durasi trek dalam milidetik  \n",
    "- explicit: Ada lirik eksplisit (true/false)  \n",
    "- danceability: Kemampuan untuk menari (0.0-1.0)  \n",
    "- energy: Tingkat energi (0.0-1.0)  \n",
    "- key: Kunci nada (0-11, -1 jika tidak terdeteksi)  \n",
    "- loudness: Kekerasan dalam dB  \n",
    "- mode: Mode mayor (1) atau minor (0)  \n",
    "- speechiness: Kemiripan dengan ucapan (0.0-1.0)  \n",
    "- acousticness: Keaslian akustik (0.0-1.0)  \n",
    "- instrumentalness: Tanpa vokal (0.0-1.0)  \n",
    "- liveness: Kemungkinan live (0.0-1.0)  \n",
    "- valence: Positivitas musik (0.0-1.0)  \n",
    "- tempo: Tempo dalam BPM  \n",
    "- time_signature: Tanda birama (3-7)  \n",
    "- track_genre: Genre musiknya"
   ]
  },
  {
   "cell_type": "code",
   "execution_count": null,
   "id": "0b691cb6",
   "metadata": {},
   "outputs": [],
   "source": [
    "data = pd.read_csv('data/spotify_dataset.csv')\n",
    "data.sample(5)"
   ]
  },
  {
   "cell_type": "code",
   "execution_count": null,
   "id": "ac17d8ce",
   "metadata": {},
   "outputs": [],
   "source": [
    "data.info()"
   ]
  },
  {
   "cell_type": "code",
   "execution_count": null,
   "id": "af86d18c",
   "metadata": {},
   "outputs": [],
   "source": [
    "data.drop(columns=['Unnamed: 0'], inplace=True)\n",
    "data.info()"
   ]
  },
  {
   "cell_type": "code",
   "execution_count": null,
   "id": "eff5db97",
   "metadata": {},
   "outputs": [],
   "source": [
    "num_cols = data.select_dtypes(include=['int64', 'float64']).columns\n",
    "num_cols"
   ]
  },
  {
   "cell_type": "code",
   "execution_count": null,
   "id": "e3aa02f8",
   "metadata": {},
   "outputs": [],
   "source": [
    "data.describe()"
   ]
  },
  {
   "cell_type": "markdown",
   "id": "949bb09a",
   "metadata": {},
   "source": [
    "## Duplicate"
   ]
  },
  {
   "cell_type": "code",
   "execution_count": null,
   "id": "abe8530b",
   "metadata": {},
   "outputs": [],
   "source": [
    "# Check duplicates\n",
    "data.duplicated().sum()"
   ]
  },
  {
   "cell_type": "code",
   "execution_count": null,
   "id": "483966f9",
   "metadata": {},
   "outputs": [],
   "source": [
    "data['track_id'].duplicated().sum()"
   ]
  },
  {
   "cell_type": "code",
   "execution_count": null,
   "id": "63a4c7bc",
   "metadata": {},
   "outputs": [],
   "source": [
    "data['track_id'].nunique()"
   ]
  },
  {
   "cell_type": "code",
   "execution_count": null,
   "id": "ecf99361",
   "metadata": {},
   "outputs": [],
   "source": [
    "data['track_name'].duplicated().sum()"
   ]
  },
  {
   "cell_type": "markdown",
   "id": "fe54a643",
   "metadata": {},
   "source": [
    "## Missing Value"
   ]
  },
  {
   "cell_type": "code",
   "execution_count": null,
   "id": "256f8eac",
   "metadata": {},
   "outputs": [],
   "source": [
    "# Check for missing values\n",
    "data.isnull().sum()"
   ]
  },
  {
   "cell_type": "markdown",
   "id": "13e7ebd4",
   "metadata": {},
   "source": [
    "## Outliers"
   ]
  },
  {
   "cell_type": "code",
   "execution_count": null,
   "id": "c40db31c",
   "metadata": {},
   "outputs": [],
   "source": [
    "for col in num_cols:\n",
    "    plt.figure(figsize=(10, 5))\n",
    "    sns.boxplot(data=data[col], orient='h')\n",
    "    plt.title(f'Boxplot of {col}', fontsize=20)\n",
    "    plt.xlabel(col)\n",
    "    plt.show()"
   ]
  },
  {
   "cell_type": "markdown",
   "id": "4dc8aa13",
   "metadata": {},
   "source": [
    "## EDA"
   ]
  },
  {
   "cell_type": "markdown",
   "id": "91373d8e",
   "metadata": {},
   "source": [
    "### Numerik"
   ]
  },
  {
   "cell_type": "code",
   "execution_count": null,
   "id": "c4331e7b",
   "metadata": {},
   "outputs": [],
   "source": [
    "num_cols_data = data[num_cols]\n",
    "num_cols_data.head()"
   ]
  },
  {
   "cell_type": "code",
   "execution_count": null,
   "id": "cb19e054",
   "metadata": {},
   "outputs": [],
   "source": [
    "num_cols_data.hist(\n",
    "    bins=30,\n",
    "    figsize=(20, 15),\n",
    "    color='green',\n",
    "    edgecolor='black'\n",
    ")\n",
    "plt.suptitle('Distribution of Numerical Features', fontsize=20)\n",
    "plt.tight_layout()\n",
    "plt.show()"
   ]
  },
  {
   "cell_type": "code",
   "execution_count": null,
   "id": "60ad02be",
   "metadata": {},
   "outputs": [],
   "source": [
    "data_sorted_by_popularity = data.sort_values(by='popularity', ascending=False)\n",
    "data_sorted_by_popularity.head()"
   ]
  },
  {
   "cell_type": "markdown",
   "id": "55c854a9",
   "metadata": {},
   "source": [
    "### Categorical"
   ]
  },
  {
   "cell_type": "code",
   "execution_count": null,
   "id": "e52de8e3",
   "metadata": {},
   "outputs": [],
   "source": [
    "category_cols = data.select_dtypes(include=['object', 'bool']).columns\n",
    "category_cols"
   ]
  },
  {
   "cell_type": "code",
   "execution_count": null,
   "id": "f6d480d9",
   "metadata": {},
   "outputs": [],
   "source": [
    "categoty_cols_data = data[category_cols]\n",
    "categoty_cols_data.sample(5)"
   ]
  },
  {
   "cell_type": "code",
   "execution_count": null,
   "id": "bd07ae41",
   "metadata": {},
   "outputs": [],
   "source": [
    "data['track_genre'].unique()"
   ]
  },
  {
   "cell_type": "code",
   "execution_count": null,
   "id": "d34007d7",
   "metadata": {},
   "outputs": [],
   "source": [
    "data.groupby('track_genre').size().reset_index(name='count').sort_values(by='count', ascending=False).head(10)"
   ]
  },
  {
   "cell_type": "code",
   "execution_count": null,
   "id": "6bf394a0",
   "metadata": {},
   "outputs": [],
   "source": [
    "data.groupby('track_genre').size().reset_index(name='count').sort_values(by='count', ascending=True).head(10)"
   ]
  },
  {
   "cell_type": "code",
   "execution_count": null,
   "id": "fe1e10c8",
   "metadata": {},
   "outputs": [],
   "source": [
    "plt.figure(figsize=(20, 6))\n",
    "plt.title('Distribution of Track Genres')\n",
    "sns.countplot(data=data, x='track_genre', order=data['track_genre'].value_counts().index, color='green')\n",
    "plt.xticks(rotation=90)\n",
    "plt.show()"
   ]
  },
  {
   "cell_type": "code",
   "execution_count": null,
   "id": "cebe7971",
   "metadata": {},
   "outputs": [],
   "source": [
    "data['explicit'].value_counts()"
   ]
  },
  {
   "cell_type": "markdown",
   "id": "2f22c7c4",
   "metadata": {},
   "source": [
    "### Bivariate"
   ]
  },
  {
   "cell_type": "code",
   "execution_count": null,
   "id": "7dc1b96f",
   "metadata": {},
   "outputs": [],
   "source": [
    "genre_popularity = data.groupby('track_genre')['popularity'].mean().sort_values(ascending=False)\n",
    "genre_popularity = pd.DataFrame(genre_popularity).reset_index()\n",
    "genre_popularity.head(10)"
   ]
  },
  {
   "cell_type": "code",
   "execution_count": null,
   "id": "8b0973c3",
   "metadata": {},
   "outputs": [],
   "source": [
    "plt.figure(figsize=(10, 6))\n",
    "plt.title('Distribution of Track Popularity')\n",
    "plt.bar(genre_popularity['track_genre'].head(10), genre_popularity['popularity'].head(10), color='green')\n",
    "plt.xlabel('Track Genre')\n",
    "plt.ylabel('Popularity')\n",
    "plt.xticks(rotation=90)\n",
    "plt.show()"
   ]
  },
  {
   "cell_type": "markdown",
   "id": "8e712cc9",
   "metadata": {},
   "source": [
    "### Heatmap"
   ]
  },
  {
   "cell_type": "code",
   "execution_count": null,
   "id": "c0909f5c",
   "metadata": {},
   "outputs": [],
   "source": [
    "plt.figure(figsize=(12, 8))\n",
    "sns.heatmap(num_cols_data.corr(), annot=True, fmt=\".2f\", cmap=\"coolwarm\", cbar=True)\n",
    "plt.title(\"Correlation Heatmap of Numerical Features\", fontsize=16)\n",
    "plt.show()"
   ]
  },
  {
   "cell_type": "markdown",
   "id": "7d40e07c",
   "metadata": {},
   "source": [
    "# Data Preparation"
   ]
  },
  {
   "cell_type": "markdown",
   "id": "731774d5",
   "metadata": {},
   "source": [
    "## Data Cleaning"
   ]
  },
  {
   "cell_type": "markdown",
   "id": "bb78ab47",
   "metadata": {},
   "source": [
    "### Duplicate"
   ]
  },
  {
   "cell_type": "markdown",
   "id": "349a6758",
   "metadata": {},
   "source": [
    "We keep the one that more popular"
   ]
  },
  {
   "cell_type": "code",
   "execution_count": null,
   "id": "b9b7b53e",
   "metadata": {},
   "outputs": [],
   "source": [
    "data = data.sort_values('popularity', ascending=False)\n",
    "data = data.drop_duplicates(subset=['track_id'], keep='first')\n",
    "data = data.reset_index(drop=True)\n",
    "data.duplicated(subset=['track_id']).sum()"
   ]
  },
  {
   "cell_type": "code",
   "execution_count": null,
   "id": "495d0b3c",
   "metadata": {},
   "outputs": [],
   "source": [
    "data.head()"
   ]
  },
  {
   "cell_type": "code",
   "execution_count": null,
   "id": "c75f243b",
   "metadata": {},
   "outputs": [],
   "source": [
    "data.shape"
   ]
  },
  {
   "cell_type": "code",
   "execution_count": null,
   "id": "d604624c",
   "metadata": {},
   "outputs": [],
   "source": [
    "data = data.drop_duplicates(subset=['track_name', 'artists'], keep='first')\n",
    "data = data.reset_index(drop=True)\n",
    "data.duplicated(subset=['track_name', 'artists']).sum()"
   ]
  },
  {
   "cell_type": "code",
   "execution_count": null,
   "id": "9021bd48",
   "metadata": {},
   "outputs": [],
   "source": [
    "data.shape"
   ]
  },
  {
   "cell_type": "markdown",
   "id": "ff7a70eb",
   "metadata": {},
   "source": [
    "### Missing Value"
   ]
  },
  {
   "cell_type": "code",
   "execution_count": null,
   "id": "47445af1",
   "metadata": {},
   "outputs": [],
   "source": [
    "data = data.dropna()\n",
    "data.shape"
   ]
  },
  {
   "cell_type": "markdown",
   "id": "ea05b225",
   "metadata": {},
   "source": [
    "### Outlier"
   ]
  },
  {
   "cell_type": "markdown",
   "id": "a610b102",
   "metadata": {},
   "source": [
    "Terdapat anomali pada kolom durasi. Terdapat beberapa lagu dengan durasi sangat pendek dan bebrapa sangat panjang. Oleh karena itu, dilakukan pembersihan dengan menetapkan batas atas dan batasan bawah dari lagu yang akan digunakan sebagai data. \n",
    "\n",
    "Pada kasus ini dilakukan penetapan minimal lagu memiliki durasi waktu 45 detik (45000 ms) hingga 10 menit (600.000 ms). \n",
    "\n",
    "Standar ini dibuat berdasarkan karakteristik lagu yang umumnya diterima.\n",
    "\n",
    "Pada data lain tidak dilakukan pembersihan outlier dikarenakan fitur yang dimiliki merupakan daya tarik dari lagu dan terlalu berharga apabila dihapus."
   ]
  },
  {
   "cell_type": "code",
   "execution_count": 32,
   "id": "65ff69b6",
   "metadata": {},
   "outputs": [],
   "source": [
    "def convert_to_minutes(miliseconds):\n",
    "    seconds = miliseconds / 1000\n",
    "    minutes = seconds // 60\n",
    "    seconds = seconds % 60\n",
    "    return f\"{int(minutes)}:{int(seconds):02d}\""
   ]
  },
  {
   "cell_type": "code",
   "execution_count": null,
   "id": "a87613ca",
   "metadata": {},
   "outputs": [],
   "source": [
    "average_duration = data['duration_ms'].mean()\n",
    "print(f\"Average duration of tracks: {average_duration} ms or {convert_to_minutes(average_duration)}\")\n",
    "min_duration = data['duration_ms'].min()\n",
    "print(f\"Minimum duration of tracks: {min_duration} ms or {convert_to_minutes(min_duration)}\")\n",
    "max_duration = data['duration_ms'].max()\n",
    "print(f\"Maximum duration of tracks: {max_duration} ms or {convert_to_minutes(max_duration)}\")"
   ]
  },
  {
   "cell_type": "code",
   "execution_count": null,
   "id": "9fded4cd",
   "metadata": {},
   "outputs": [],
   "source": [
    "data.sort_values('duration_ms', ascending=False).head(10)"
   ]
  },
  {
   "cell_type": "code",
   "execution_count": null,
   "id": "1189bc47",
   "metadata": {},
   "outputs": [],
   "source": [
    "data.sort_values('duration_ms', ascending=True).head(10)"
   ]
  },
  {
   "cell_type": "code",
   "execution_count": 36,
   "id": "bd995704",
   "metadata": {},
   "outputs": [],
   "source": [
    "upper_bound = 600000\n",
    "lower_bound = 45000\n",
    "\n",
    "# Filter the data \n",
    "data_filtered = data[(data['duration_ms'] >= lower_bound) & (data['duration_ms'] <= upper_bound)]"
   ]
  },
  {
   "cell_type": "code",
   "execution_count": null,
   "id": "f7eb52e6",
   "metadata": {},
   "outputs": [],
   "source": [
    "data_filtered.describe()"
   ]
  },
  {
   "cell_type": "code",
   "execution_count": null,
   "id": "2e8a8bdd",
   "metadata": {},
   "outputs": [],
   "source": [
    "data = data_filtered\n",
    "data.shape"
   ]
  },
  {
   "cell_type": "code",
   "execution_count": null,
   "id": "0b3de166",
   "metadata": {},
   "outputs": [],
   "source": [
    "data['explicit'] = data['explicit'].astype(int)\n",
    "data['explicit'].sample(5)"
   ]
  },
  {
   "cell_type": "markdown",
   "id": "c9e03429",
   "metadata": {},
   "source": [
    "## Normalization"
   ]
  },
  {
   "cell_type": "code",
   "execution_count": null,
   "id": "50f1791e",
   "metadata": {},
   "outputs": [],
   "source": [
    "scaler = MinMaxScaler()\n",
    "data_scaled = data.copy()\n",
    "# Normalize numerical columns\n",
    "data_scaled[num_cols] = scaler.fit_transform(data[num_cols])\n",
    "data_scaled[num_cols].describe()"
   ]
  },
  {
   "cell_type": "markdown",
   "id": "75a1c25b",
   "metadata": {},
   "source": [
    "# PCA"
   ]
  },
  {
   "cell_type": "code",
   "execution_count": 41,
   "id": "0a1157da",
   "metadata": {},
   "outputs": [],
   "source": [
    "selected_cols = ['explicit', 'danceability', 'energy', 'key', 'loudness', 'mode', 'speechiness', 'acousticness', 'instrumentalness', 'liveness','valence', 'tempo', 'time_signature']"
   ]
  },
  {
   "cell_type": "code",
   "execution_count": null,
   "id": "547adc7c",
   "metadata": {},
   "outputs": [],
   "source": [
    "music_features_data = data_scaled[selected_cols]\n",
    "music_features_data.sample(5)"
   ]
  },
  {
   "cell_type": "code",
   "execution_count": null,
   "id": "6b91267e",
   "metadata": {},
   "outputs": [],
   "source": [
    "from sklearn.decomposition import PCA\n",
    "n_components = 0.95\n",
    "pca = PCA(n_components=n_components)\n",
    "pca_features = pca.fit_transform(music_features_data)\n",
    "\n",
    "print(f\"Original feature shape: {music_features_data.shape}\")\n",
    "print(f\"PCA feature shape: {pca_features.shape}\")"
   ]
  },
  {
   "cell_type": "markdown",
   "id": "5887b36e",
   "metadata": {},
   "source": [
    "# Modelling"
   ]
  },
  {
   "cell_type": "code",
   "execution_count": 44,
   "id": "db72cc4d",
   "metadata": {},
   "outputs": [],
   "source": [
    "output_columns = ['track_id', 'track_name', 'artists', 'popularity', 'track_genre']"
   ]
  },
  {
   "cell_type": "markdown",
   "id": "b0b75905",
   "metadata": {},
   "source": [
    "## Popularity Based Recommendations"
   ]
  },
  {
   "cell_type": "code",
   "execution_count": 45,
   "id": "7ffe2f88",
   "metadata": {},
   "outputs": [],
   "source": [
    "def popularity_recommendation(input_song_name, num_recommendations=5):\n",
    "    #check if the song exists in the dataset\n",
    "    if input_song_name not in data['track_name'].values:\n",
    "        raise ValueError(f\"The song '{input_song_name}' is not in the dataset.\")\n",
    "\n",
    "    # Get the popularity of the given track\n",
    "    track_popularity = data.loc[data['track_name'] == input_song_name, 'popularity'].values[0]\n",
    "    \n",
    "    # Get the most popular tracks\n",
    "    most_popular_tracks = data[data['popularity'] >= track_popularity].sort_values(by='popularity', ascending=False)\n",
    "    \n",
    "    # Return the top 10 most popular tracks\n",
    "    df =  most_popular_tracks[output_columns].head(num_recommendations)\n",
    "    ids = df['track_id'].tolist()\n",
    "    \n",
    "    return df, ids"
   ]
  },
  {
   "cell_type": "markdown",
   "id": "23a86c03",
   "metadata": {},
   "source": [
    "## KNN Based Recommendations"
   ]
  },
  {
   "cell_type": "markdown",
   "id": "228a0e0f",
   "metadata": {},
   "source": [
    "Digunakan model KNN dengan metric cosine untuk menghitung jarak antar fitur lagu antara satu dengan yang lain"
   ]
  },
  {
   "cell_type": "code",
   "execution_count": 46,
   "id": "9f2bf2e3",
   "metadata": {},
   "outputs": [],
   "source": [
    "from sklearn.neighbors import NearestNeighbors\n",
    "def knn_based_recommendations(input_song_name, num_recommendations=5):\n",
    "    #check if the song exists in the dataset\n",
    "    if input_song_name not in data['track_name'].values:\n",
    "        raise ValueError(f\"The song '{input_song_name}' is not in the dataset.\")\n",
    "    \n",
    "    knn_model = NearestNeighbors(n_neighbors=num_recommendations, metric='cosine')\n",
    "    knn_model.fit(pca_features)\n",
    "\n",
    "    # Get the index of the input song\n",
    "    input_song_index = data[data['track_name'] == input_song_name].index[0]\n",
    "    input_song_vector = pca_features[input_song_index].reshape(1, -1)\n",
    "    \n",
    "    distances, indices = knn_model.kneighbors(input_song_vector, n_neighbors=num_recommendations + 10)\n",
    "    similar_song_indices = indices[0][1:]  # Exclude the first index (the song itself)\n",
    "    \n",
    "    knn_based_recommendations = data.iloc[similar_song_indices][output_columns]\n",
    "    knn_based_recommendations['distance'] = distances[0][1:]  # Exclude the first distance (the song itself)\n",
    "\n",
    "    # Delete duplicate songs\n",
    "    knn_based_recommendations.drop_duplicates(subset=['track_name'])\n",
    "    knn_based_recommendations.sort_values(by='distance', ascending=True)\n",
    "\n",
    "    df = knn_based_recommendations.head(num_recommendations)\n",
    "    ids = df['track_id'].tolist()\n",
    "    \n",
    "    return df, ids"
   ]
  },
  {
   "cell_type": "markdown",
   "id": "a217fb87",
   "metadata": {},
   "source": [
    "## Cluster Based Recommendation"
   ]
  },
  {
   "cell_type": "code",
   "execution_count": 47,
   "id": "a0e352bc",
   "metadata": {},
   "outputs": [],
   "source": [
    "from sklearn.cluster import KMeans"
   ]
  },
  {
   "cell_type": "code",
   "execution_count": null,
   "id": "f15131c7",
   "metadata": {},
   "outputs": [],
   "source": [
    "wcss = []\n",
    "for k in range(5, 51, 5):  # Try from 5 to 50 clusters\n",
    "    kmeans = KMeans(n_clusters=k, random_state=42, n_init='auto')\n",
    "    kmeans.fit(pca_features) \n",
    "    wcss.append(kmeans.inertia_)\n",
    "\n",
    "plt.plot(range(5, 51, 5), wcss, marker='o')\n",
    "plt.title('Elbow Method For Optimal k')\n",
    "plt.xlabel('Number of Clusters')\n",
    "plt.ylabel('WCSS')\n",
    "plt.show()"
   ]
  },
  {
   "cell_type": "markdown",
   "id": "a63dccb4",
   "metadata": {},
   "source": [
    "Dari grafik, diasumsikan nilai n_cluster paling optimal yaitu 10. "
   ]
  },
  {
   "cell_type": "code",
   "execution_count": null,
   "id": "67134969",
   "metadata": {},
   "outputs": [],
   "source": [
    "kmeans = KMeans(n_clusters=10)\n",
    "clusters = kmeans.fit_predict(pca_features)\n",
    "data['cluster'] = clusters\n",
    "data[['track_name', 'artists', 'cluster']].sample(5)"
   ]
  },
  {
   "cell_type": "code",
   "execution_count": null,
   "id": "1c04ef5e",
   "metadata": {},
   "outputs": [],
   "source": [
    "data['cluster'].value_counts()"
   ]
  },
  {
   "cell_type": "code",
   "execution_count": null,
   "id": "b6b4e5f1",
   "metadata": {},
   "outputs": [],
   "source": [
    "data[data['cluster'] == 0].track_genre.value_counts().head(10)"
   ]
  },
  {
   "cell_type": "code",
   "execution_count": 52,
   "id": "63e99e42",
   "metadata": {},
   "outputs": [],
   "source": [
    "def cluster_based_recommendations(input_song_name, num_recommendations=5):\n",
    "    # Get the cluster of the given track\n",
    "    track_cluster = data.loc[data['track_name'] == input_song_name, 'cluster'].values[0]\n",
    "\n",
    "    cluster_tracks = data[data['cluster'] == track_cluster].sort_values(by='popularity', ascending=False)\n",
    "    cluster_tracks = cluster_tracks[cluster_tracks['track_name'] != input_song_name]\n",
    "    df = cluster_tracks[output_columns].head(num_recommendations)\n",
    "    ids = df['track_id'].tolist()\n",
    "\n",
    "    return df, ids\n"
   ]
  },
  {
   "cell_type": "markdown",
   "id": "e4608afc",
   "metadata": {},
   "source": [
    "## Hybrid Recommendation"
   ]
  },
  {
   "cell_type": "code",
   "execution_count": 135,
   "id": "de8c0c04",
   "metadata": {},
   "outputs": [],
   "source": [
    "def hybrid_recommendation(input_song_name, num_recommendations=5):\n",
    "    # Check if the song exists in the dataset\n",
    "    if input_song_name not in data['track_name'].values:\n",
    "        raise ValueError(f\"The song '{input_song_name}' is not in the dataset.\")\n",
    "\n",
    "    # KNN model for similarity\n",
    "    knn_model = NearestNeighbors(n_neighbors=num_recommendations + 10, metric='cosine')\n",
    "    knn_model.fit(pca_features)\n",
    "\n",
    "    # Get the index of the input song\n",
    "    input_song_index = data[data['track_name'] == input_song_name].index[0]\n",
    "    input_song_vector = pca_features[input_song_index].reshape(1, -1)\n",
    "\n",
    "    distances, indices = knn_model.kneighbors(input_song_vector, n_neighbors=num_recommendations + 10)\n",
    "    similar_song_indices = indices[0][1:]  # Exclude the first index (the song itself)\n",
    "\n",
    "    knn_based_recommendations = data.iloc[similar_song_indices].copy()\n",
    "    knn_based_recommendations['distance'] = distances[0][1:]  # Exclude the first distance (the song itself)\n",
    "\n",
    "    # Filter based on input song cluster\n",
    "    input_song_cluster = data.loc[input_song_index, 'cluster']\n",
    "    candidate_songs = knn_based_recommendations[knn_based_recommendations['cluster'] == input_song_cluster].copy()\n",
    "\n",
    "    # If no songs are found in the cluster, use the unfiltered recommendations\n",
    "    if candidate_songs.empty:\n",
    "        candidate_songs = knn_based_recommendations.copy()  # Use a copy to avoid modifying the original\n",
    "\n",
    "    # Sort by popularity and similarity (hybrid ranking)\n",
    "    candidate_songs['hybrid_score'] = 0.6 * candidate_songs['distance'] + 0.4 * (\n",
    "            candidate_songs['popularity'] / 100)\n",
    "    candidate_songs = candidate_songs.sort_values(by='hybrid_score', ascending=False)\n",
    "    \n",
    "    # Get the top recommendations\n",
    "    top_recommendations = candidate_songs[output_columns].head(num_recommendations)\n",
    "    ids = top_recommendations['track_id'].tolist()\n",
    "    \n",
    "\n",
    "    return top_recommendations, ids"
   ]
  },
  {
   "cell_type": "markdown",
   "id": "c1539f7a",
   "metadata": {},
   "source": [
    "# Evaluation"
   ]
  },
  {
   "cell_type": "markdown",
   "id": "84903994",
   "metadata": {},
   "source": [
    "### define ground truth by genre"
   ]
  },
  {
   "cell_type": "code",
   "execution_count": 96,
   "id": "0f47ecf0",
   "metadata": {},
   "outputs": [],
   "source": [
    "def get_ground_truth_by_genre(df, input_track_id):\n",
    "    genre = df[df['track_id'] == input_track_id]['track_genre'].values[0]\n",
    "    df = df[df['track_genre'] == genre][output_columns]\n",
    "    ids = df['track_id'].tolist()\n",
    "    return df, ids"
   ]
  },
  {
   "cell_type": "code",
   "execution_count": null,
   "id": "2775dec2",
   "metadata": {},
   "outputs": [],
   "source": [
    "genre_truth, genre_truth_ids = get_ground_truth_by_genre(data, input_song_id)\n",
    "genre_truth"
   ]
  },
  {
   "cell_type": "markdown",
   "id": "8babea04",
   "metadata": {},
   "source": [
    "## Scoring"
   ]
  },
  {
   "cell_type": "code",
   "execution_count": 98,
   "id": "1d4ebe8e",
   "metadata": {},
   "outputs": [],
   "source": [
    "from sklearn.metrics import ndcg_score"
   ]
  },
  {
   "cell_type": "code",
   "execution_count": 99,
   "id": "2a927f6c",
   "metadata": {},
   "outputs": [],
   "source": [
    "def precision_at_k(y_true, y_pred, k):\n",
    "    y_pred = y_pred[:k]\n",
    "    relevant = set(y_true)\n",
    "    return len([i for i in y_pred if i in relevant]) / k\n",
    "\n",
    "def recall_at_k(y_true, y_pred, k):\n",
    "    y_pred = y_pred[:k]\n",
    "    relevant = set(y_true)\n",
    "    return len([i for i in y_pred if i in relevant]) / len(relevant) if relevant else 0\n",
    "\n",
    "def f1_score_at_k(precision, recall):\n",
    "    return 2 * precision * recall / (precision + recall) if (precision + recall) else 0\n",
    "\n",
    "def average_precision(y_true, y_pred, k):\n",
    "    score = 0.0\n",
    "    hits = 0.0\n",
    "    for i, p in enumerate(y_pred[:k]):\n",
    "        if p in y_true:\n",
    "            hits += 1\n",
    "            score += hits / (i + 1)\n",
    "    return score / min(len(y_true), k) if y_true else 0\n",
    "\n",
    "def evaluate_all(y_true, y_pred, k=5):\n",
    "    p = precision_at_k(y_true, y_pred, k)\n",
    "    r = recall_at_k(y_true, y_pred, k)\n",
    "    f1 = f1_score_at_k(p, r)\n",
    "    ap = average_precision(y_true, y_pred, k)\n",
    "\n",
    "    # NDCG assumes relevance scores → binary (1 if relevant)\n",
    "    true_relevance = [[1 if i in y_true else 0 for i in y_pred[:k]]]\n",
    "    predicted_scores = [[1.0 / (i + 1) for i in range(k)]]\n",
    "    ndcg = ndcg_score(true_relevance, predicted_scores)\n",
    "\n",
    "    return {\n",
    "        'Precision@{}'.format(k): round(p, 4),\n",
    "        'Recall@{}'.format(k): round(r, 4),\n",
    "        'F1@{}'.format(k): round(f1, 4),\n",
    "        'MAP@{}'.format(k): round(ap, 4),\n",
    "        'NDCG@{}'.format(k): round(ndcg, 4)\n",
    "    }"
   ]
  },
  {
   "cell_type": "markdown",
   "id": "9acc5500",
   "metadata": {},
   "source": [
    "## Blinding Light by The Weekend"
   ]
  },
  {
   "cell_type": "code",
   "execution_count": null,
   "id": "52fcad63",
   "metadata": {},
   "outputs": [],
   "source": [
    "input_song_name = 'Blinding Lights'\n",
    "song = data.loc[data['track_name'] == input_song_name]\n",
    "song = song[0:1]\n",
    "song"
   ]
  },
  {
   "cell_type": "code",
   "execution_count": null,
   "id": "f4b8b03f",
   "metadata": {},
   "outputs": [],
   "source": [
    "input_song_id = song['track_id'].iloc[0]\n",
    "input_song_id"
   ]
  },
  {
   "cell_type": "code",
   "execution_count": null,
   "id": "d9d876a4",
   "metadata": {},
   "outputs": [],
   "source": [
    "pop_pred, pop_ids = popularity_recommendation(input_song_name, num_recommendations=5)\n",
    "pop_pred"
   ]
  },
  {
   "cell_type": "code",
   "execution_count": null,
   "id": "558dd59f",
   "metadata": {},
   "outputs": [],
   "source": [
    "knn_pred, knn_ids = knn_based_recommendations(input_song_name, num_recommendations=5)\n",
    "knn_pred"
   ]
  },
  {
   "cell_type": "code",
   "execution_count": null,
   "id": "8a38785e",
   "metadata": {},
   "outputs": [],
   "source": [
    "cluster_pred, cluster_ids = cluster_based_recommendations(input_song_name, num_recommendations=5)\n",
    "cluster_pred"
   ]
  },
  {
   "cell_type": "code",
   "execution_count": null,
   "id": "4695a24e",
   "metadata": {},
   "outputs": [],
   "source": [
    "hybrid_pred, hybrid_ids = hybrid_recommendation(input_song_name, num_recommendations=5)\n",
    "hybrid_pred"
   ]
  },
  {
   "cell_type": "code",
   "execution_count": 120,
   "id": "35225f1e",
   "metadata": {},
   "outputs": [],
   "source": [
    "results_1 = []\n",
    "results_1.append({'Model': 'Popularity', **evaluate_all(genre_truth_ids, pop_ids)})\n",
    "results_1.append({'Model': 'KNN', **evaluate_all(genre_truth_ids, knn_ids)})\n",
    "results_1.append({'Model': 'Clustering', **evaluate_all(genre_truth_ids, cluster_ids)})\n",
    "results_1.append({'Model': 'Hybrid', **evaluate_all(genre_truth_ids, hybrid_ids)})"
   ]
  },
  {
   "cell_type": "code",
   "execution_count": null,
   "id": "0391880e",
   "metadata": {},
   "outputs": [],
   "source": [
    "eval_df_1 = pd.DataFrame(results_1)\n",
    "eval_df_1"
   ]
  },
  {
   "cell_type": "markdown",
   "id": "3e71f5a3",
   "metadata": {},
   "source": [
    "## Out of Phase by Proem"
   ]
  },
  {
   "cell_type": "code",
   "execution_count": null,
   "id": "c6148fc2",
   "metadata": {},
   "outputs": [],
   "source": [
    "input_song_name = 'Out of Phase'\n",
    "song = data.loc[data['track_name'] == input_song_name]\n",
    "song = song[0:1]\n",
    "song"
   ]
  },
  {
   "cell_type": "code",
   "execution_count": null,
   "id": "2ff0a0d5",
   "metadata": {},
   "outputs": [],
   "source": [
    "input_song_id = song['track_id'].iloc[0]\n",
    "input_song_id"
   ]
  },
  {
   "cell_type": "code",
   "execution_count": null,
   "id": "ec36c0d5",
   "metadata": {},
   "outputs": [],
   "source": [
    "pop_pred, pop_ids = popularity_recommendation(input_song_name, num_recommendations=5)\n",
    "pop_pred"
   ]
  },
  {
   "cell_type": "code",
   "execution_count": null,
   "id": "5b641b13",
   "metadata": {},
   "outputs": [],
   "source": [
    "knn_pred, knn_ids = knn_based_recommendations(input_song_name, num_recommendations=5)\n",
    "knn_pred"
   ]
  },
  {
   "cell_type": "code",
   "execution_count": null,
   "id": "7e4bbdd6",
   "metadata": {},
   "outputs": [],
   "source": [
    "cluster_pred, cluster_ids = cluster_based_recommendations(input_song_name, num_recommendations=5)\n",
    "cluster_pred"
   ]
  },
  {
   "cell_type": "code",
   "execution_count": null,
   "id": "601a884b",
   "metadata": {},
   "outputs": [],
   "source": [
    "hybrid_pred, hybrid_ids = hybrid_recommendation(input_song_name, num_recommendations=5)\n",
    "hybrid_pred[['track_name', 'artists']]"
   ]
  },
  {
   "cell_type": "code",
   "execution_count": 143,
   "id": "c8b11c2b",
   "metadata": {},
   "outputs": [],
   "source": [
    "results_2 = []\n",
    "results_2.append({'Model': 'Popularity', **evaluate_all(genre_truth_ids, pop_ids)})\n",
    "results_2.append({'Model': 'KNN', **evaluate_all(genre_truth_ids, knn_ids)})\n",
    "results_2.append({'Model': 'Clustering', **evaluate_all(genre_truth_ids, cluster_ids)})\n",
    "results_2.append({'Model': 'Hybrid', **evaluate_all(genre_truth_ids, hybrid_ids)})"
   ]
  },
  {
   "cell_type": "code",
   "execution_count": null,
   "id": "13e24bdf",
   "metadata": {},
   "outputs": [],
   "source": [
    "eval_df_2 = pd.DataFrame(results_2)\n",
    "eval_df_2"
   ]
  },
  {
   "cell_type": "markdown",
   "id": "5c5af867",
   "metadata": {},
   "source": [
    "Dari hasil evaluasi yang paling baik merupakan model yang berbasis cluster"
   ]
  }
 ],
 "metadata": {
  "kernelspec": {
   "display_name": "venv",
   "language": "python",
   "name": "python3"
  },
  "language_info": {
   "codemirror_mode": {
    "name": "ipython",
    "version": 3
   },
   "file_extension": ".py",
   "mimetype": "text/x-python",
   "name": "python",
   "nbconvert_exporter": "python",
   "pygments_lexer": "ipython3",
   "version": "3.12.7"
  }
 },
 "nbformat": 4,
 "nbformat_minor": 5
}
